{
 "cells": [
  {
   "cell_type": "code",
   "execution_count": null,
   "id": "1b1bfc04-0793-4db7-97aa-8fedbdab1445",
   "metadata": {},
   "outputs": [],
   "source": [
    "import cv2\n",
    "print(cv2.__version__)"
   ]
  }
 ],
 "metadata": {
  "kernelspec": {
   "display_name": "",
   "name": ""
  },
  "language_info": {
   "name": ""
  }
 },
 "nbformat": 4,
 "nbformat_minor": 5
}
